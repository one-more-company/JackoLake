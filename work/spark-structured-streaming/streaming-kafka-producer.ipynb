{
 "cells": [
  {
   "cell_type": "markdown",
   "id": "7c0db395-9295-4ff1-9fde-a24f25473330",
   "metadata": {},
   "source": [
    "# Kafka Producer em Python\n",
    "\n",
    "Utiliza-se a biblioteca Faker para gerar dados aleatórios e criar eventos (json) que são serializados e enviados ao tópico kafka "
   ]
  },
  {
   "cell_type": "code",
   "execution_count": 4,
   "id": "45b6f08f-001f-425e-bb10-49de715af105",
   "metadata": {
    "tags": []
   },
   "outputs": [
    {
     "name": "stdout",
     "output_type": "stream",
     "text": [
      "Requirement already satisfied: kafka-python in /usr/local/lib/python3.10/dist-packages (2.0.2)\n",
      "Requirement already satisfied: Faker in /usr/local/lib/python3.10/dist-packages (18.6.2)\n",
      "Requirement already satisfied: pytz in /usr/local/lib/python3.10/dist-packages (2023.3)\n",
      "Requirement already satisfied: python-dateutil>=2.4 in /usr/local/lib/python3.10/dist-packages (from Faker) (2.8.2)\n",
      "Requirement already satisfied: six>=1.5 in /usr/local/lib/python3.10/dist-packages (from python-dateutil>=2.4->Faker) (1.16.0)\n",
      "\u001b[33mWARNING: Running pip as the 'root' user can result in broken permissions and conflicting behaviour with the system package manager. It is recommended to use a virtual environment instead: https://pip.pypa.io/warnings/venv\u001b[0m\u001b[33m\n",
      "\u001b[0m"
     ]
    }
   ],
   "source": [
    "# Instalar dependências do código\n",
    "!pip install kafka-python Faker pytz"
   ]
  },
  {
   "cell_type": "code",
   "execution_count": 3,
   "id": "38bc1485-ee10-4391-a23a-d2aba287762b",
   "metadata": {
    "scrolled": true,
    "tags": []
   },
   "outputs": [
    {
     "name": "stdout",
     "output_type": "stream",
     "text": [
      "Iniciando geração de eventos, pare o kernel para interromper...\n",
      "Interrupted\n"
     ]
    }
   ],
   "source": [
    "from kafka import KafkaProducer\n",
    "import json\n",
    "import time\n",
    "from faker import Faker\n",
    "import pytz\n",
    "from datetime import datetime, timedelta\n",
    "import sys\n",
    "import os\n",
    "\n",
    "def generate_data():\n",
    "    fake = Faker()\n",
    "    tz = pytz.timezone(\"America/Sao_Paulo\")\n",
    "    \n",
    "    payload = {\n",
    "        \"transaction-ts\": datetime.now(tz).strftime('%Y-%m-%d %H:%M:%S'),\n",
    "        \"transaction-id\": fake.uuid4(),\n",
    "        \"product-id\": fake.random_number(digits = 3)\n",
    "    }\n",
    "    return payload\n",
    "\n",
    "def json_serializer(data):\n",
    "    return json.dumps(data).encode('utf-8')\n",
    "\n",
    "producer = KafkaProducer(\n",
    "    bootstrap_servers=['kafka:29092'],\n",
    "    api_version = (7,7,3),\n",
    "    value_serializer=json_serializer\n",
    ")\n",
    "\n",
    "def main(backoff = 0):\n",
    "    print(\"Iniciando geração de eventos, pare o kernel para interromper...\")\n",
    "    count = 0\n",
    "    while True:\n",
    "        \n",
    "        payload = generate_data()\n",
    "        topic = 'meu_topico_kafka'\n",
    "\n",
    "        producer.send(topic, payload)\n",
    "        count+=1\n",
    "        print(count, end = '\\r')\n",
    "        time.sleep(backoff)\n",
    "try:\n",
    "    main()\n",
    "except KeyboardInterrupt:\n",
    "    print('Interrupted')"
   ]
  }
 ],
 "metadata": {
  "kernelspec": {
   "display_name": "Python 3 (ipykernel)",
   "language": "python",
   "name": "python3"
  },
  "language_info": {
   "codemirror_mode": {
    "name": "ipython",
    "version": 3
   },
   "file_extension": ".py",
   "mimetype": "text/x-python",
   "name": "python",
   "nbconvert_exporter": "python",
   "pygments_lexer": "ipython3",
   "version": "3.10.6"
  }
 },
 "nbformat": 4,
 "nbformat_minor": 5
}

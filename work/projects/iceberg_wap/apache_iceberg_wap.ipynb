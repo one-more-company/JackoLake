{
 "cells": [
  {
   "cell_type": "markdown",
   "metadata": {},
   "source": [
    "# Apache Iceberg Write Audit Publish (or Rollback) Pattern"
   ]
  },
  {
   "cell_type": "markdown",
   "metadata": {},
   "source": [
    "## Create SparkSession"
   ]
  },
  {
   "cell_type": "code",
   "execution_count": 1,
   "metadata": {},
   "outputs": [
    {
     "name": "stdout",
     "output_type": "stream",
     "text": [
      ":: loading settings :: url = jar:file:/usr/local/lib/python3.10/dist-packages/pyspark/jars/ivy-2.5.1.jar!/org/apache/ivy/core/settings/ivysettings.xml\n"
     ]
    },
    {
     "name": "stderr",
     "output_type": "stream",
     "text": [
      "Ivy Default Cache set to: /root/.ivy2/cache\n",
      "The jars for the packages stored in: /root/.ivy2/jars\n",
      "org.apache.iceberg#iceberg-spark-runtime-3.5_2.12 added as a dependency\n",
      ":: resolving dependencies :: org.apache.spark#spark-submit-parent-d0fa5ff8-920f-4eff-9a78-5a8ecd3809b6;1.0\n",
      "\tconfs: [default]\n",
      "\tfound org.apache.iceberg#iceberg-spark-runtime-3.5_2.12;1.7.0 in central\n",
      "downloading https://repo1.maven.org/maven2/org/apache/iceberg/iceberg-spark-runtime-3.5_2.12/1.7.0/iceberg-spark-runtime-3.5_2.12-1.7.0.jar ...\n",
      "\t[SUCCESSFUL ] org.apache.iceberg#iceberg-spark-runtime-3.5_2.12;1.7.0!iceberg-spark-runtime-3.5_2.12.jar (3688ms)\n",
      ":: resolution report :: resolve 364ms :: artifacts dl 3692ms\n",
      "\t:: modules in use:\n",
      "\torg.apache.iceberg#iceberg-spark-runtime-3.5_2.12;1.7.0 from central in [default]\n",
      "\t---------------------------------------------------------------------\n",
      "\t|                  |            modules            ||   artifacts   |\n",
      "\t|       conf       | number| search|dwnlded|evicted|| number|dwnlded|\n",
      "\t---------------------------------------------------------------------\n",
      "\t|      default     |   1   |   1   |   1   |   0   ||   1   |   1   |\n",
      "\t---------------------------------------------------------------------\n",
      ":: retrieving :: org.apache.spark#spark-submit-parent-d0fa5ff8-920f-4eff-9a78-5a8ecd3809b6\n",
      "\tconfs: [default]\n",
      "\t1 artifacts copied, 0 already retrieved (41792kB/56ms)\n",
      "25/03/25 22:04:43 WARN NativeCodeLoader: Unable to load native-hadoop library for your platform... using builtin-java classes where applicable\n",
      "Setting default log level to \"WARN\".\n",
      "To adjust logging level use sc.setLogLevel(newLevel). For SparkR, use setLogLevel(newLevel).\n",
      "25/03/25 22:04:45 WARN MetricsConfig: Cannot locate configuration: tried hadoop-metrics2-s3a-file-system.properties,hadoop-metrics2.properties\n"
     ]
    },
    {
     "data": {
      "text/html": [
       "\n",
       "            <div>\n",
       "                <p><b>SparkSession - hive</b></p>\n",
       "                \n",
       "        <div>\n",
       "            <p><b>SparkContext</b></p>\n",
       "\n",
       "            <p><a href=\"http://1f1f0af056b1:4040\">Spark UI</a></p>\n",
       "\n",
       "            <dl>\n",
       "              <dt>Version</dt>\n",
       "                <dd><code>v3.5.0</code></dd>\n",
       "              <dt>Master</dt>\n",
       "                <dd><code>spark://spark-master:7077</code></dd>\n",
       "              <dt>AppName</dt>\n",
       "                <dd><code>SparkSession-Iceberg</code></dd>\n",
       "            </dl>\n",
       "        </div>\n",
       "        \n",
       "            </div>\n",
       "        "
      ],
      "text/plain": [
       "<pyspark.sql.session.SparkSession at 0x7f6f81d6b220>"
      ]
     },
     "execution_count": 1,
     "metadata": {},
     "output_type": "execute_result"
    }
   ],
   "source": [
    "from pyspark.sql import SparkSession\n",
    "\n",
    "spark = SparkSession.builder \\\n",
    "    .appName(\"SparkSession-Iceberg\") \\\n",
    "    .config(\"spark.jars.packages\", \"org.apache.iceberg:iceberg-spark-runtime-3.5_2.12:1.7.0\") \\\n",
    "    .config(\"spark.sql.extensions\", \"org.apache.iceberg.spark.extensions.IcebergSparkSessionExtensions\") \\\n",
    "    .config(\"spark.sql.catalog.iceberg\", \"org.apache.iceberg.spark.SparkCatalog\") \\\n",
    "    .config(\"spark.sql.catalog.iceberg.type\", \"hive\") \\\n",
    "    .config(\"spark.sql.catalog.iceberg.uri\", \"thrift://hive-metastore:9083\") \\\n",
    "    .getOrCreate()\n",
    "\n",
    "\n",
    "spark"
   ]
  },
  {
   "cell_type": "code",
   "execution_count": 2,
   "metadata": {},
   "outputs": [
    {
     "name": "stderr",
     "output_type": "stream",
     "text": [
      "Hive Session ID = fef67008-9708-4f51-8ac8-be4c8f698228\n"
     ]
    },
    {
     "data": {
      "text/plain": [
       "DataFrame[]"
      ]
     },
     "execution_count": 2,
     "metadata": {},
     "output_type": "execute_result"
    }
   ],
   "source": [
    "spark.sql(\"DROP TABLE IF EXISTS iceberg.dunder_mifflin.dim_employee\")\n",
    "\n",
    "spark.sql(\"CREATE DATABASE IF NOT EXISTS dunder_mifflin\")"
   ]
  },
  {
   "cell_type": "code",
   "execution_count": 3,
   "metadata": {},
   "outputs": [
    {
     "name": "stdout",
     "output_type": "stream",
     "text": [
      "CREATE TABLE iceberg.dunder_mifflin.dim_employee (\n",
      "  employee_id INT,\n",
      "  first_name STRING,\n",
      "  last_name STRING,\n",
      "  department STRING,\n",
      "  start_date DATE,\n",
      "  end_date DATE)\n",
      "USING iceberg\n",
      "LOCATION 's3a://lasagna-workspace-bronze/dunder_mifflin/dim_employee'\n",
      "TBLPROPERTIES (\n",
      "  'current-snapshot-id' = 'none',\n",
      "  'format' = 'iceberg/parquet',\n",
      "  'format-version' = '2',\n",
      "  'write.parquet.compression-codec' = 'zstd')\n",
      "\n"
     ]
    },
    {
     "name": "stderr",
     "output_type": "stream",
     "text": [
      "                                                                                "
     ]
    },
    {
     "name": "stdout",
     "output_type": "stream",
     "text": [
      "+-----------+----------+---------+----------+----------+--------+\n",
      "|employee_id|first_name|last_name|department|start_date|end_date|\n",
      "+-----------+----------+---------+----------+----------+--------+\n",
      "|1          |Michael   |Scott    |Management|2005-03-24|NULL    |\n",
      "|2          |Jim       |Halpert  |Sales     |2005-03-24|NULL    |\n",
      "|3          |Pam       |Beesly   |Reception |2005-03-24|NULL    |\n",
      "+-----------+----------+---------+----------+----------+--------+\n",
      "\n"
     ]
    },
    {
     "name": "stderr",
     "output_type": "stream",
     "text": [
      "25/03/25 22:05:24 ERROR StandaloneSchedulerBackend: Application has been killed. Reason: Master removed our application: KILLED\n",
      "25/03/25 22:05:24 ERROR Inbox: Ignoring error\n",
      "org.apache.spark.SparkException: Exiting due to error from cluster scheduler: Master removed our application: KILLED\n",
      "\tat org.apache.spark.errors.SparkCoreErrors$.clusterSchedulerError(SparkCoreErrors.scala:291)\n",
      "\tat org.apache.spark.scheduler.TaskSchedulerImpl.error(TaskSchedulerImpl.scala:981)\n",
      "\tat org.apache.spark.scheduler.cluster.StandaloneSchedulerBackend.dead(StandaloneSchedulerBackend.scala:165)\n",
      "\tat org.apache.spark.deploy.client.StandaloneAppClient$ClientEndpoint.markDead(StandaloneAppClient.scala:263)\n",
      "\tat org.apache.spark.deploy.client.StandaloneAppClient$ClientEndpoint$$anonfun$receive$1.applyOrElse(StandaloneAppClient.scala:170)\n",
      "\tat org.apache.spark.rpc.netty.Inbox.$anonfun$process$1(Inbox.scala:115)\n",
      "\tat org.apache.spark.rpc.netty.Inbox.safelyCall(Inbox.scala:213)\n",
      "\tat org.apache.spark.rpc.netty.Inbox.process(Inbox.scala:100)\n",
      "\tat org.apache.spark.rpc.netty.MessageLoop.org$apache$spark$rpc$netty$MessageLoop$$receiveLoop(MessageLoop.scala:75)\n",
      "\tat org.apache.spark.rpc.netty.MessageLoop$$anon$1.run(MessageLoop.scala:41)\n",
      "\tat java.base/java.util.concurrent.ThreadPoolExecutor.runWorker(ThreadPoolExecutor.java:1136)\n",
      "\tat java.base/java.util.concurrent.ThreadPoolExecutor$Worker.run(ThreadPoolExecutor.java:635)\n",
      "\tat java.base/java.lang.Thread.run(Thread.java:833)\n"
     ]
    }
   ],
   "source": [
    "spark.sql(\n",
    "\"\"\"\n",
    "CREATE TABLE IF NOT EXISTS iceberg.dunder_mifflin.dim_employee (\n",
    "    employee_id integer,\n",
    "    first_name string,\n",
    "    last_name string,\n",
    "    department string,\n",
    "    start_date date,\n",
    "    end_date date\n",
    ")\n",
    "USING iceberg\n",
    "LOCATION 's3a://lasagna-workspace-bronze/dunder_mifflin/dim_employee/'\n",
    "\"\"\"\n",
    ")\n",
    "\n",
    "print(\n",
    "    spark.sql(\n",
    "        \"SHOW CREATE TABLE iceberg.dunder_mifflin.dim_employee\"\n",
    "    ).collect()[0][\"createtab_stmt\"]\n",
    ")\n",
    "\n",
    "spark.sql(\n",
    "\"\"\"\n",
    "INSERT INTO iceberg.dunder_mifflin.dim_employee VALUES\n",
    "    (1, 'Michael', 'Scott', 'Management', DATE '2005-03-24', NULL),\n",
    "    (2, 'Jim', 'Halpert', 'Sales', DATE '2005-03-24', NULL),\n",
    "    (3, 'Pam', 'Beesly', 'Reception', DATE '2005-03-24', NULL)\n",
    "\"\"\"\n",
    ")\n",
    "\n",
    "spark.sql(\n",
    "\"\"\"\n",
    "SELECT * \n",
    "FROM iceberg.dunder_mifflin.dim_employee\n",
    "\"\"\"\n",
    ").show(truncate=False)"
   ]
  },
  {
   "cell_type": "code",
   "execution_count": null,
   "metadata": {},
   "outputs": [],
   "source": [
    "spark.sql(\n",
    "\"\"\"\n",
    "ALTER TABLE iceberg.dunder_mifflin.dim_employee\n",
    "    SET TBLPROPERTIES ('write.wap.enabled'='true')\n",
    "\"\"\"\n",
    ")\n",
    "\n",
    "spark.sql(\n",
    "\"\"\"\n",
    "SHOW TBLPROPERTIES iceberg.dunder_mifflin.dim_employee\n",
    "\"\"\"\n",
    ").show(truncate=False)"
   ]
  },
  {
   "cell_type": "code",
   "execution_count": null,
   "metadata": {},
   "outputs": [],
   "source": [
    "spark.sql(\n",
    "\"\"\" \n",
    "ALTER TABLE iceberg.dunder_mifflin.dim_employee\n",
    "CREATE BRANCH IF NOT EXISTS `audit` RETAIN 7 DAYS\n",
    "\"\"\"\n",
    ")\n",
    "\n",
    "spark.sql(\n",
    "\"\"\" \n",
    "ALTER TABLE iceberg.dunder_mifflin.dim_employee\n",
    "CREATE BRANCH IF NOT EXISTS `quarantine` RETAIN 7 DAYS\n",
    "\"\"\"\n",
    ")\n",
    "\n",
    "spark.sql(\n",
    "\"\"\" \n",
    "SELECT * \n",
    "FROM iceberg.dunder_mifflin.dim_employee.refs\n",
    "\"\"\"\n",
    ").show(truncate=False)"
   ]
  },
  {
   "cell_type": "code",
   "execution_count": null,
   "metadata": {},
   "outputs": [],
   "source": [
    "from pyspark.sql.types import StructType, StructField, IntegerType, StringType, DateType\n",
    "from datetime import date\n",
    "\n",
    "new_data = [\n",
    "    (1, \"Michael\", \"Scott\", \"Management\", date(2005, 3, 24), None), # Não muda nada\n",
    "    (2, \"Jim\", \"Halpert\", \"Management\", date(2005, 3, 24), None), # Mudou de área\n",
    "    (3, \"Pam\", \"Beesly Halpert\", \"Reception\", date(2005, 3, 24), None), # Mudou de nome\n",
    "    (4, \"Dwight\", \"Schrute\", \"Sales\", date(2005, 4, 26), None) # Entrou na empresA\n",
    "]\n",
    "\n",
    "schema = StructType([\n",
    "    StructField(\"employee_id\", IntegerType(), nullable=False),\n",
    "    StructField(\"first_name\", StringType(), nullable=False),\n",
    "    StructField(\"last_name\", StringType(), nullable=False),\n",
    "    StructField(\"department\", StringType(), nullable=False),\n",
    "    StructField(\"start_date\", DateType(), nullable=False),\n",
    "    StructField(\"end_date\", DateType(), nullable=True)\n",
    "])\n",
    "\n",
    "new_df = spark.createDataFrame(new_data, schema)\n",
    "\n",
    "new_df.show(truncate=False)"
   ]
  },
  {
   "cell_type": "code",
   "execution_count": null,
   "metadata": {},
   "outputs": [],
   "source": [
    "spark.sql(\n",
    "\"\"\"\n",
    "SELECT * \n",
    "FROM iceberg.dunder_mifflin.dim_employee.snapshots\n",
    "\"\"\"\n",
    ").show(truncate=False)\n",
    "\n",
    "last_snapshot = spark.sql(\n",
    "\"\"\"\n",
    "SELECT * \n",
    "FROM iceberg.dunder_mifflin.dim_employee.snapshots\n",
    "\"\"\"\n",
    ").collect()[-1]['snapshot_id']\n",
    "\n",
    "print(f\"Last snapshot: {last_snapshot}\")"
   ]
  },
  {
   "cell_type": "code",
   "execution_count": null,
   "metadata": {},
   "outputs": [],
   "source": [
    "spark.conf.set(\"spark.wap.branch\", \"audit\")\n",
    "\n",
    "new_df.createOrReplaceTempView(\"new_dataframe\")\n",
    "\n",
    "spark.sql(\n",
    "\"\"\"\n",
    "MERGE INTO iceberg.dunder_mifflin.dim_employee AS OLD\n",
    "USING new_dataframe AS NEW\n",
    "ON OLD.employee_id = NEW.employee_id AND OLD.end_date IS NULL\n",
    "WHEN MATCHED AND (\n",
    "    NEW.first_name IS NOT NULL AND (\n",
    "        OLD.first_name != NEW.first_name \n",
    "        OR OLD.last_name != NEW.last_name \n",
    "        OR OLD.department != NEW.department\n",
    "        )\n",
    "    ) THEN \n",
    "    UPDATE SET end_date = CURRENT_DATE()\n",
    "\"\"\"\n",
    ")\n",
    "\n",
    "spark.sql(\n",
    "\"\"\"\n",
    "MERGE INTO iceberg.dunder_mifflin.dim_employee AS OLD\n",
    "USING new_dataframe AS NEW\n",
    "ON OLD.employee_id = NEW.employee_id AND OLD.end_date IS NULL\n",
    "WHEN NOT MATCHED THEN\n",
    "    INSERT (employee_id, first_name, last_name, department, start_date, end_date)\n",
    "    VALUES (NEW.employee_id, NEW.first_name, NEW.last_name, NEW.department, CURRENT_DATE(), NULL)\n",
    "\n",
    "\"\"\"\n",
    ")"
   ]
  },
  {
   "cell_type": "code",
   "execution_count": null,
   "metadata": {},
   "outputs": [],
   "source": [
    "# spark.read.option(\"BRANCH\", \"audit\").format(\"iceberg\").load(\"iceberg.dunder_mifflin.dim_employee\").show()\n",
    "\n",
    "print(\"branch :: [audit]\")\n",
    "spark.sql(\n",
    "\"\"\"\n",
    "SELECT *\n",
    "FROM iceberg.dunder_mifflin.dim_employee\n",
    "FOR VERSION AS OF 'audit'\n",
    "\"\"\"\n",
    ").show()\n",
    "\n",
    "\n",
    "# spark.read.option(\"BRANCH\", \"audit\").format(\"iceberg\").load(\"iceberg.dunder_mifflin.dim_employee\").show()\n",
    "\n",
    "print(\"branch :: [main]\")\n",
    "spark.sql(\n",
    "\"\"\"\n",
    "SELECT *\n",
    "FROM iceberg.dunder_mifflin.dim_employee\n",
    "FOR VERSION AS OF 'main'\n",
    "\"\"\"\n",
    ").show()\n",
    "\n",
    "# spark.read.option(\"BRANCH\", \"quarantine\").format(\"iceberg\").load(\"iceberg.dunder_mifflin.dim_employee\").show()\n",
    "\n",
    "print(\"branch :: [quarantine]\")\n",
    "spark.sql(\n",
    "\"\"\"\n",
    "SELECT *\n",
    "FROM iceberg.dunder_mifflin.dim_employee\n",
    "FOR VERSION AS OF 'quarantine'\n",
    "\"\"\"\n",
    ").show()"
   ]
  },
  {
   "cell_type": "code",
   "execution_count": null,
   "metadata": {},
   "outputs": [],
   "source": [
    "is_good_quality = True\n",
    "\n",
    "if is_good_quality:\n",
    "    branch_to_merge = \"main\"\n",
    "elif not is_good_quality:\n",
    "    branch_to_merge = \"quarantine\"\n",
    "    \n",
    "\n",
    "spark.sql(f\"\"\"\n",
    "CALL iceberg.system.fast_forward(\n",
    "    'iceberg.dunder_mifflin.dim_employee',\n",
    "    '{branch_to_merge}',\n",
    "    'audit'\n",
    ")\n",
    "\"\"\").show()\n",
    "\n",
    "\n",
    "print(\"branch :: [audit]\")\n",
    "spark.sql(\n",
    "\"\"\"\n",
    "SELECT *\n",
    "FROM iceberg.dunder_mifflin.dim_employee\n",
    "FOR VERSION AS OF 'audit'\n",
    "\"\"\"\n",
    ").show()\n",
    "\n",
    "\n",
    "print(\"branch :: [main]\")\n",
    "spark.sql(\n",
    "\"\"\"\n",
    "SELECT *\n",
    "FROM iceberg.dunder_mifflin.dim_employee\n",
    "FOR VERSION AS OF 'main'\n",
    "\"\"\"\n",
    ").show()\n",
    "\n",
    "\n",
    "print(\"branch :: [quarantine]\")\n",
    "spark.sql(\n",
    "\"\"\"\n",
    "SELECT *\n",
    "FROM iceberg.dunder_mifflin.dim_employee\n",
    "FOR VERSION AS OF 'quarantine'\n",
    "\"\"\"\n",
    ").show()\n"
   ]
  },
  {
   "cell_type": "code",
   "execution_count": null,
   "metadata": {},
   "outputs": [],
   "source": [
    "spark.sql(\n",
    "\"\"\" \n",
    "SELECT * \n",
    "FROM iceberg.dunder_mifflin.dim_employee.snapshots\n",
    "\"\"\"\n",
    ").show(truncate=False)"
   ]
  },
  {
   "cell_type": "code",
   "execution_count": null,
   "metadata": {},
   "outputs": [],
   "source": [
    "spark.sql(\n",
    "f\"\"\"\n",
    "CALL iceberg.system.rollback_to_snapshot(\n",
    "    'iceberg.dunder_mifflin.dim_employee',\n",
    "    {last_snapshot}\n",
    ")\n",
    "\"\"\"\n",
    ").show(truncate=False)\n",
    "\n",
    "\n",
    "is_good_quality = False\n",
    "\n",
    "if is_good_quality:\n",
    "    branch_to_merge = \"main\"\n",
    "elif not is_good_quality:\n",
    "    branch_to_merge = \"quarantine\"\n",
    "    \n",
    "\n",
    "spark.sql(f\"\"\"\n",
    "CALL iceberg.system.fast_forward(\n",
    "    'iceberg.dunder_mifflin.dim_employee',\n",
    "    '{branch_to_merge}',\n",
    "    'audit'\n",
    ")\n",
    "\"\"\").show()\n",
    "\n",
    "\n",
    "print(\"branch :: [audit]\")\n",
    "spark.sql(\n",
    "\"\"\"\n",
    "SELECT *\n",
    "FROM iceberg.dunder_mifflin.dim_employee\n",
    "FOR VERSION AS OF 'audit'\n",
    "\"\"\"\n",
    ").show()\n",
    "\n",
    "\n",
    "print(\"branch :: [main]\")\n",
    "spark.sql(\n",
    "\"\"\"\n",
    "SELECT *\n",
    "FROM iceberg.dunder_mifflin.dim_employee\n",
    "FOR VERSION AS OF 'main'\n",
    "\"\"\"\n",
    ").show()\n",
    "\n",
    "\n",
    "print(\"branch :: [quarantine]\")\n",
    "spark.sql(\n",
    "\"\"\"\n",
    "SELECT *\n",
    "FROM iceberg.dunder_mifflin.dim_employee\n",
    "FOR VERSION AS OF 'quarantine'\n",
    "\"\"\"\n",
    ").show()"
   ]
  },
  {
   "cell_type": "code",
   "execution_count": null,
   "metadata": {},
   "outputs": [],
   "source": [
    "spark.sql(\n",
    "\"\"\" \n",
    "SELECT * \n",
    "FROM iceberg.dunder_mifflin.dim_employee.history\n",
    "\"\"\"\n",
    ").show(truncate=False)"
   ]
  },
  {
   "cell_type": "code",
   "execution_count": null,
   "metadata": {},
   "outputs": [],
   "source": []
  },
  {
   "cell_type": "code",
   "execution_count": null,
   "metadata": {},
   "outputs": [],
   "source": []
  },
  {
   "cell_type": "code",
   "execution_count": null,
   "metadata": {},
   "outputs": [],
   "source": []
  }
 ],
 "metadata": {
  "kernelspec": {
   "display_name": "PySpark (Iceberg)",
   "language": "python",
   "name": "pyspark_iceberg"
  },
  "language_info": {
   "codemirror_mode": {
    "name": "ipython",
    "version": 3
   },
   "file_extension": ".py",
   "mimetype": "text/x-python",
   "name": "python",
   "nbconvert_exporter": "python",
   "pygments_lexer": "ipython3",
   "version": "3.10.12"
  }
 },
 "nbformat": 4,
 "nbformat_minor": 4
}
